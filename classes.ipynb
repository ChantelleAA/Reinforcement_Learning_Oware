{
  "nbformat": 4,
  "nbformat_minor": 0,
  "metadata": {
    "colab": {
      "provenance": []
    },
    "kernelspec": {
      "name": "python3",
      "display_name": "Python 3"
    },
    "language_info": {
      "name": "python"
    }
  },
  "cells": [
    {
      "cell_type": "markdown",
      "source": [
        "Classes being considered are Board, Player, Rules and Game State"
      ],
      "metadata": {
        "id": "Ojumlm2-Ekgz"
      }
    },
    {
      "cell_type": "markdown",
      "source": [
        "### **Board**"
      ],
      "metadata": {
        "id": "91bUC2T3Eoxa"
      }
    },
    {
      "cell_type": "code",
      "source": [
        "import numpy as np\n",
        "import gym\n",
        "import random"
      ],
      "metadata": {
        "id": "DRddAlTcFGv8"
      },
      "execution_count": 1,
      "outputs": []
    },
    {
      "cell_type": "code",
      "source": [
        "class Board():\n",
        "    def __init__(self):\n",
        "        self.nrows = 2\n",
        "        self.ncols = 6\n",
        "        self.total_stores = 2\n",
        "        self.board = 4 * np.ones((self.nrows, self.ncols))\n",
        "\n",
        "        self.total_territories = self.nrows * self.ncols\n",
        "        self.stores = np.zeros((self.total_stores,))\n",
        "        self.territory_count = np.array((self.ncols, self.ncols))\n",
        "        self.board_indices = list(np.ndindex(self.nrows, self.ncols))\n",
        "        self.player_territories = [self.board_indices[5::-1], self.board_indices[6:]]\n",
        "\n",
        "        self.n_players = 2\n",
        "        self.current_player = 1\n",
        "        self.other_player = 2\n",
        "\n",
        "    @property\n",
        "    def total_seeds(self):\n",
        "        return np.sum(self.board, axis=None)\n",
        "\n",
        "    @property\n",
        "    def board_format(self):\n",
        "        return self.board_indices[5::-1] + self.board_indices[6:]\n",
        "\n",
        "    def zero_rows(self):\n",
        "        rows = np.array([False, False])\n",
        "        for i in range(self.nrows):\n",
        "            if np.sum(self.board[i, :]) == 0:\n",
        "                rows[i] = True\n",
        "        return rows\n",
        "\n",
        "    def reset_board(self):\n",
        "        self.board = 4 * np.ones((self.nrows, self.ncols))\n",
        "\n",
        "    def action2pit(self, action):\n",
        "        return self.board_format[action]\n",
        "\n",
        "    def get_seeds(self, action):\n",
        "        pit_index = self.action2pit(action=action)\n",
        "        return self.board[pit_index]\n",
        "\n",
        "    def set_seeds(self, action, new_value):\n",
        "        pit_index = self.action2pit(action=action)\n",
        "        self.board[pit_index] = new_value\n",
        "\n",
        "    def update_seeds(self, action, new_value):\n",
        "        pit_index = self.action2pit(action=action)\n",
        "        self.board[pit_index] += new_value\n",
        "\n",
        "    def distribute_seeds(self, action):\n",
        "        # should just change the state of the game but not return anything except maybe some print statements about the change of states, final_index\n",
        "        # get pit index corresponding to action taken\n",
        "        pit_index = self.action2pit(action=action)\n",
        "\n",
        "        # pick seeds from current pit\n",
        "        seeds = self.board[pit_index]\n",
        "\n",
        "        # set seeds from current pit to zero\n",
        "        self.board[pit_index] = 0\n",
        "\n",
        "        # iterate over number of seeds picked\n",
        "        while seeds > 0 :\n",
        "            global next_index\n",
        "            print(type(action))\n",
        "            action += 1\n",
        "            next_index = self.board_format[action]\n",
        "\n",
        "            # drop seed at the point found\n",
        "            self.board[next_index] += 1\n",
        "\n",
        "            # update number of seeds in hand\n",
        "            seeds -= 1\n",
        "\n",
        "            # update current index\n",
        "            pit_index = next_index\n",
        "\n",
        "        return next_index\n",
        "\n",
        "    def capture_seeds(self, action, during_game = True):\n",
        "\n",
        "        pit_index = self.action2pit(action)\n",
        "        player_idx = self.current_player - 1\n",
        "        if self.get_seeds(action) == 4 and np.sum(self.board, axis=None) > 8:\n",
        "            if during_game:\n",
        "                if pit_index in self.board_format[player_idx]:\n",
        "                    self.stores[player_idx] += 4\n",
        "                    self.set_seeds(action, 0)\n",
        "                else:\n",
        "                    self.stores[1 - player_idx] += 4\n",
        "                    self.board[pit_index] = 0\n",
        "            else:\n",
        "                if self.board[pit_index] == 4:\n",
        "                    self.stores[pit_index] += 4\n",
        "                    self.set_seeds(action, 0)\n",
        "        elif self.get_seeds(action) == 4 and np.sum(self.board, axis=None) == 8:\n",
        "            self.stores[player_idx] += 8\n",
        "            self.board[self.board > 0] = 0\n"
      ],
      "metadata": {
        "colab": {
          "base_uri": "https://localhost:8080/"
        },
        "id": "qUN9gC-8Emzi",
        "outputId": "fe40d6fe-45b7-4ef0-f58f-25a3507c476b"
      },
      "execution_count": 10,
      "outputs": [
        {
          "output_type": "stream",
          "name": "stderr",
          "text": [
            "/usr/local/lib/python3.10/dist-packages/ipykernel/ipkernel.py:283: DeprecationWarning: `should_run_async` will not call `transform_cell` automatically in the future. Please pass the result to `transformed_cell` argument and any exception that happen during thetransform in `preprocessing_exc_tuple` in IPython 7.17 and above.\n",
            "  and should_run_async(code)\n"
          ]
        }
      ]
    },
    {
      "cell_type": "code",
      "source": [
        "b= Board()\n",
        "b.territory_count\n",
        "b.capture_seeds(2)\n",
        "b.player_territories"
      ],
      "metadata": {
        "colab": {
          "base_uri": "https://localhost:8080/"
        },
        "id": "Oc_DwthJSfXL",
        "outputId": "48a3b49c-4218-46e0-9fde-de528203a1b2"
      },
      "execution_count": 12,
      "outputs": [
        {
          "output_type": "execute_result",
          "data": {
            "text/plain": [
              "[[(0, 5), (0, 4), (0, 3), (0, 2), (0, 1), (0, 0)],\n",
              " [(1, 0), (1, 1), (1, 2), (1, 3), (1, 4), (1, 5)]]"
            ]
          },
          "metadata": {},
          "execution_count": 12
        }
      ]
    },
    {
      "cell_type": "markdown",
      "source": [
        "### **Player**"
      ],
      "metadata": {
        "id": "5sMzMHlipcV4"
      }
    },
    {
      "cell_type": "code",
      "source": [
        "class Player:\n",
        "    def __init__(self):\n",
        "        B = Board()\n",
        "        self.player1 = 1\n",
        "        self.player2 = 2\n",
        "        self.stores = B.stores\n",
        "        self.territories = B.board_indices\n",
        "        self.env = GameState()\n",
        "\n",
        "    def territory_count(self):\n",
        "        return Board().territory_count\n",
        "\n",
        "    def territory_indices(self, player):\n",
        "        player_id = player - 1\n",
        "        if player == 1:\n",
        "            return self.territories[:6]\n",
        "        elif player == 2:\n",
        "            return self.territories[6:]\n",
        "\n",
        "    def is_round_winner(self, player):\n",
        "        player_id = player - 1\n",
        "        opponent_id = 1 - player_id\n",
        "        if self.stores[player_id] > self.stores[opponent_id]:\n",
        "            return True\n",
        "        return False\n",
        "\n",
        "    def Player1_step(self, start_action):\n",
        "        final_idx = Board().distribute_seeds(start_action)\n",
        "        seeds = Board().board[final_idx]\n",
        "        while Board().board[final_idx] != 1:\n",
        "\n",
        "        pass\n",
        "\n",
        "    def Player2_step(self, start_action):\n",
        "        pass"
      ],
      "metadata": {
        "id": "lQVfMzVOpe2e"
      },
      "execution_count": 5,
      "outputs": []
    },
    {
      "cell_type": "markdown",
      "source": [
        "### **Game state**"
      ],
      "metadata": {
        "id": "RP2AbKIqWe1o"
      }
    },
    {
      "cell_type": "code",
      "source": [
        "class GameState:\n",
        "    def __init__(self):\n",
        "        self.total_games_played = 0\n",
        "        self.games_won = np.array([0, 0])\n",
        "        self.current_board_state = Board().board\n",
        "        self.current_store_state = Board().stores\n",
        "        self.current_territory_count = Board().territory_count\n",
        "        self.rounds_completed = 0\n",
        "        self.turns_completed = 0\n",
        "        self.win_list = []\n",
        "        self.round_winner = 0\n",
        "        self.current_player = 0\n",
        "        self.other_player = 0\n",
        "        self.actions = np.arange(12)\n",
        "        self.game_actions = np.array([])\n",
        "        self.game_states = np.array([])\n",
        "\n",
        "    def update_win_list(self, player):\n",
        "        if player == self.round_winner:\n",
        "            self.win_list += [player]\n",
        "\n",
        "    def possible_moves(self, player):\n",
        "        player_id = player-1\n",
        "        open_moves = []\n",
        "        for i in self.actions:\n",
        "            pit_index = Board().action2pit(i)\n",
        "            if pit_index in Board().player_territories[player_id]:\n",
        "                if Board().board[pit_index] != 0 :\n",
        "                    open_moves.append(i)\n",
        "        return open_moves\n",
        "\n",
        "    def save_actions(self):\n",
        ""
      ],
      "metadata": {
        "id": "n1JRusW1WvXw",
        "colab": {
          "base_uri": "https://localhost:8080/"
        },
        "outputId": "20e0bed0-1dd3-4596-d6ff-500de8df8724"
      },
      "execution_count": 13,
      "outputs": [
        {
          "output_type": "stream",
          "name": "stderr",
          "text": [
            "/usr/local/lib/python3.10/dist-packages/ipykernel/ipkernel.py:283: DeprecationWarning: `should_run_async` will not call `transform_cell` automatically in the future. Please pass the result to `transformed_cell` argument and any exception that happen during thetransform in `preprocessing_exc_tuple` in IPython 7.17 and above.\n",
            "  and should_run_async(code)\n"
          ]
        }
      ]
    },
    {
      "cell_type": "code",
      "source": [
        "g = GameState()\n",
        "g.possible_moves(2)"
      ],
      "metadata": {
        "colab": {
          "base_uri": "https://localhost:8080/"
        },
        "id": "nDS-hX98zkbq",
        "outputId": "6d27333d-eff8-4f67-9b78-0c2d34299bb5"
      },
      "execution_count": 15,
      "outputs": [
        {
          "output_type": "execute_result",
          "data": {
            "text/plain": [
              "[6, 7, 8, 9, 10, 11]"
            ]
          },
          "metadata": {},
          "execution_count": 15
        }
      ]
    },
    {
      "cell_type": "markdown",
      "source": [
        "### **RuleEngine**"
      ],
      "metadata": {
        "id": "KYq5XQijWx2A"
      }
    },
    {
      "cell_type": "code",
      "source": [
        "# check for valid actions for players\n",
        "# check for valid movements\n",
        "# check for empty pits\n",
        "# check if is in      players territory\n",
        "\n",
        "class RuleEngine:\n",
        "    def __init__(self):\n",
        "        self.round = 1\n",
        "        self.turn = 1\n",
        "        self.actions = np.arange(12)\n",
        "\n",
        "    def is_valid_action(self, action, player):\n",
        "        # check if the action is valid for a player\n",
        "        if action in GameState().possible_moves(player):\n",
        "            return True\n",
        "        return False\n",
        "\n",
        "    def stop_round(self):\n",
        "        if np.sum(Board().board, axis=None) == 0:\n",
        "            return True\n",
        "\n",
        "    def stop_game(self):\n",
        "        if Board().territory_count[0] == 12\n",
        "\n",
        "    def last_4(self, player):\n",
        "        if Board().current_player == player and np.sum(Board().board < 8):\n",
        "            player_id = player - 1\n",
        "            Board().stores[player_id] +=4\n",
        "            Board().board = np.zeros((Board().nrows, Board().ncols))\n",
        "\n"
      ],
      "metadata": {
        "id": "vfSD4RGTWxec"
      },
      "execution_count": 17,
      "outputs": []
    },
    {
      "cell_type": "code",
      "source": [
        "r=RuleEngine()\n",
        "r.is_valid_action(5, 1)"
      ],
      "metadata": {
        "colab": {
          "base_uri": "https://localhost:8080/"
        },
        "id": "HRqvMNxe0GR5",
        "outputId": "615a01c8-65e4-4d29-b5a7-03cac5db8aa2"
      },
      "execution_count": 18,
      "outputs": [
        {
          "output_type": "stream",
          "name": "stderr",
          "text": [
            "/usr/local/lib/python3.10/dist-packages/ipykernel/ipkernel.py:283: DeprecationWarning: `should_run_async` will not call `transform_cell` automatically in the future. Please pass the result to `transformed_cell` argument and any exception that happen during thetransform in `preprocessing_exc_tuple` in IPython 7.17 and above.\n",
            "  and should_run_async(code)\n"
          ]
        },
        {
          "output_type": "execute_result",
          "data": {
            "text/plain": [
              "True"
            ]
          },
          "metadata": {},
          "execution_count": 18
        }
      ]
    },
    {
      "cell_type": "code",
      "source": [
        "num_of_rounds = 12\n",
        "\n",
        "class GameController:\n",
        "    def __init__(self, num_of_rounds):\n",
        "        self.n_players = 2\n",
        "        self.environment = GameState()\n",
        "        self.board = Board()\n",
        "        self.player = Player()\n",
        "        self.rules = RuleEngine()\n",
        "\n",
        "    def starting_player(self, how=\"random\"):\n",
        "        if how == \"random\":\n",
        "            starter = random.sample([1, 2], 1)\n",
        "            return starter[0]\n",
        "        elif how == \"last_winner\" and len(self.environment.win_list)!=0:\n",
        "            starter = self.environment.win_list[-1]\n",
        "            return starter\n",
        "        else:\n",
        "            starter = 1\n",
        "            return starter\n",
        "\n",
        "\n",
        "    def choose_action_player(self, player):\n",
        "        return random.sample(GameState().possible_moves(player), 1)\n",
        "\n",
        "\n",
        "\n",
        "    def game(self):\n",
        "\n",
        "        while self.rules.round < num_of_rounds:\n",
        "            if self.rules.round ==1:\n",
        "                self.environment.current_player = self.starting_player(\"random\")\n",
        "                self.environment.other_player = 1 if self.environment.current_player == 2 else 2\n",
        "            else:\n",
        "                self.environment.current_player = self.starting_player(\"last_winner\")\n",
        "                self.environment.other_player = 1 if self.environment.current_player == 2 else 2\n",
        "\n",
        "            self.rules.round +=1\n",
        "            while np.sum(self.board.board, axis = None) > 4:\n",
        "\n",
        "                action = self.choose_action_player(self.environment.current_player)\n",
        "\n",
        "\n",
        "            self.environment.rounds_completed += 1\n",
        "            self.rules.stop_round()\n",
        "\n",
        "\n",
        "\n",
        "\n"
      ],
      "metadata": {
        "id": "oxOJRyoC2PBl",
        "colab": {
          "base_uri": "https://localhost:8080/"
        },
        "outputId": "e3a45051-a728-43a9-9193-47a3c3720c62"
      },
      "execution_count": 20,
      "outputs": [
        {
          "output_type": "stream",
          "name": "stderr",
          "text": [
            "/usr/local/lib/python3.10/dist-packages/ipykernel/ipkernel.py:283: DeprecationWarning: `should_run_async` will not call `transform_cell` automatically in the future. Please pass the result to `transformed_cell` argument and any exception that happen during thetransform in `preprocessing_exc_tuple` in IPython 7.17 and above.\n",
            "  and should_run_async(code)\n"
          ]
        }
      ]
    },
    {
      "cell_type": "code",
      "source": [],
      "metadata": {
        "id": "kZuCoyQF-xZ_"
      },
      "execution_count": null,
      "outputs": []
    }
  ]
}