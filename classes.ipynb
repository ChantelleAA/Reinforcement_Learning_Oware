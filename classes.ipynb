{
  "nbformat": 4,
  "nbformat_minor": 0,
  "metadata": {
    "colab": {
      "provenance": [],
      "authorship_tag": "ABX9TyMCNnkhrMoAlJy9BI63aLnw",
      "include_colab_link": true
    },
    "kernelspec": {
      "name": "python3",
      "display_name": "Python 3"
    },
    "language_info": {
      "name": "python"
    }
  },
  "cells": [
    {
      "cell_type": "markdown",
      "metadata": {
        "id": "view-in-github",
        "colab_type": "text"
      },
      "source": [
        "<a href=\"https://colab.research.google.com/github/ChantelleAA/Reinforcement_Learning_Oware/blob/main/classes.ipynb\" target=\"_parent\"><img src=\"https://colab.research.google.com/assets/colab-badge.svg\" alt=\"Open In Colab\"/></a>"
      ]
    },
    {
      "cell_type": "markdown",
      "source": [
        "Classes being considered are Board, Player, Rules and Game State"
      ],
      "metadata": {
        "id": "Ojumlm2-Ekgz"
      }
    },
    {
      "cell_type": "markdown",
      "source": [
        "### **Board**"
      ],
      "metadata": {
        "id": "91bUC2T3Eoxa"
      }
    },
    {
      "cell_type": "code",
      "source": [
        "import numpy as np\n",
        "import gym"
      ],
      "metadata": {
        "id": "DRddAlTcFGv8"
      },
      "execution_count": 1,
      "outputs": []
    },
    {
      "cell_type": "code",
      "source": [
        "class Board():\n",
        "    def __init__(self):\n",
        "        self.nrows = 2\n",
        "        self.ncols = 6\n",
        "        self.total_stores = 2\n",
        "        self.board = 4 * np.ones((self.nrows, self.ncols))\n",
        "\n",
        "        self.total_territories = self.nrows * self.ncols\n",
        "        self.stores = np.zeros((self.total_stores,))\n",
        "        self.territory_count = np.array((self.ncols, self.ncols))\n",
        "        self.board_indices = list(np.ndindex(self.nrows, self.ncols))\n",
        "\n",
        "    @property\n",
        "    def total_seeds(self):\n",
        "        return np.sum(self.board, axis=None)\n",
        "\n",
        "    @property\n",
        "    def board_format(self):\n",
        "        return self.board_indices[5::-1] + self.board_indices[6:]\n",
        "\n",
        "    def zero_rows(self):\n",
        "        rows = np.array([False, False])\n",
        "        for i in range(self.nrows):\n",
        "            if np.sum(self.board[i, :]) == 0:\n",
        "                rows[i] = True\n",
        "        return rows\n",
        "\n",
        "    def reset_board(self):\n",
        "        self.board = 4 * np.ones((self.nrows, self.ncols))\n",
        "\n",
        "    def action2pit(self, action=None, pit_index=None):\n",
        "        if type(action) == tuple:\n",
        "            pit_index = action\n",
        "            action = None\n",
        "\n",
        "            if action != None:\n",
        "                return self.board_format[action]\n",
        "            elif pit_index != None:\n",
        "                action = self.board_format.index(pit_index)\n",
        "                return action\n",
        "\n",
        "    # def move(self, action):\n",
        "    #     pit_index = self.board_format[action]\n",
        "    #     row, col = pit_index\n",
        "    #     rows, cols = self.board.shape\n",
        "    #     if row == 0:\n",
        "    #         if col == 0:\n",
        "    #             idx = (row + 1, col)\n",
        "    #             action = self.board_format.index(idx)\n",
        "    #             return action\n",
        "    #         idx = (row, col - 1)\n",
        "    #         action = self.board_format.index(idx)\n",
        "    #         return action\n",
        "    #     else:\n",
        "    #         if col == cols - 1:\n",
        "    #             idx = (row - 1, col)\n",
        "    #             action = self.board_format.index(idx)\n",
        "    #             return action\n",
        "    #         else:\n",
        "    #             idx = (row, col + 1)\n",
        "    #             action = self.board_format.index(idx)\n",
        "    #             return action\n",
        "\n",
        "    def distribute_seeds(self, action):\n",
        "        # should just change the state of the game but not return anything except maybe some print statements about the change of states, final_index\n",
        "        # get pit index corresponding to action taken\n",
        "        pit_index = self.action2pit(action)\n",
        "\n",
        "        # pick seeds from current pit\n",
        "        seeds = self.board[pit_index]\n",
        "\n",
        "        # set seeds from current pit to zero\n",
        "        self.board[pit_index] = 0\n",
        "\n",
        "        # iterate over number of seeds picked\n",
        "        while seeds > 0 :\n",
        "            # find next point to drop seed\n",
        "            next_index = self.board_format[action+1]\n",
        "\n",
        "            # drop seed at the point found\n",
        "            self.board[next_index] += 1\n",
        "\n",
        "            # update number of seeds in hand\n",
        "            seeds -= 1\n",
        "\n",
        "        pass\n"
      ],
      "metadata": {
        "id": "qUN9gC-8Emzi"
      },
      "execution_count": 76,
      "outputs": []
    },
    {
      "cell_type": "code",
      "source": [
        "b = Board()"
      ],
      "metadata": {
        "id": "rdZAXlknLSzp"
      },
      "execution_count": 77,
      "outputs": []
    },
    {
      "cell_type": "code",
      "source": [
        "b.move(2)"
      ],
      "metadata": {
        "colab": {
          "base_uri": "https://localhost:8080/"
        },
        "id": "k3ywGZroT91m",
        "outputId": "0b8ffff7-d58a-46f8-d94f-754ea31e91db"
      },
      "execution_count": 78,
      "outputs": [
        {
          "output_type": "execute_result",
          "data": {
            "text/plain": [
              "3"
            ]
          },
          "metadata": {},
          "execution_count": 78
        }
      ]
    },
    {
      "cell_type": "code",
      "source": [
        "b.total_seeds"
      ],
      "metadata": {
        "colab": {
          "base_uri": "https://localhost:8080/"
        },
        "id": "oTJIQ2O5L0gU",
        "outputId": "69e9411a-bb0c-409e-ace0-236148b833af"
      },
      "execution_count": 46,
      "outputs": [
        {
          "output_type": "execute_result",
          "data": {
            "text/plain": [
              "48.0"
            ]
          },
          "metadata": {},
          "execution_count": 46
        }
      ]
    },
    {
      "cell_type": "code",
      "source": [
        "# b.board[0,:] = 0\n",
        "b.board"
      ],
      "metadata": {
        "colab": {
          "base_uri": "https://localhost:8080/"
        },
        "id": "OO_dhWXvPcPo",
        "outputId": "be564063-bc84-4732-9baa-7cd60d777140"
      },
      "execution_count": 45,
      "outputs": [
        {
          "output_type": "execute_result",
          "data": {
            "text/plain": [
              "array([[4., 4., 4., 4., 4., 4.],\n",
              "       [4., 4., 4., 4., 4., 4.]])"
            ]
          },
          "metadata": {},
          "execution_count": 45
        }
      ]
    },
    {
      "cell_type": "code",
      "source": [
        "b.zero_rows()"
      ],
      "metadata": {
        "colab": {
          "base_uri": "https://localhost:8080/"
        },
        "id": "LfNgDXsxL951",
        "outputId": "8f652198-9cc7-4f08-fd45-4acd0c383e2b"
      },
      "execution_count": 42,
      "outputs": [
        {
          "output_type": "execute_result",
          "data": {
            "text/plain": [
              "array([ True, False])"
            ]
          },
          "metadata": {},
          "execution_count": 42
        }
      ]
    },
    {
      "cell_type": "code",
      "source": [
        "b.board_format"
      ],
      "metadata": {
        "colab": {
          "base_uri": "https://localhost:8080/"
        },
        "id": "O3UNJDdTOBYy",
        "outputId": "f38258fa-f3f2-40cf-8d52-755ada29b7a5"
      },
      "execution_count": 32,
      "outputs": [
        {
          "output_type": "stream",
          "name": "stderr",
          "text": [
            "/usr/local/lib/python3.10/dist-packages/ipykernel/ipkernel.py:283: DeprecationWarning: `should_run_async` will not call `transform_cell` automatically in the future. Please pass the result to `transformed_cell` argument and any exception that happen during thetransform in `preprocessing_exc_tuple` in IPython 7.17 and above.\n",
            "  and should_run_async(code)\n"
          ]
        },
        {
          "output_type": "execute_result",
          "data": {
            "text/plain": [
              "[(0, 5),\n",
              " (0, 4),\n",
              " (0, 3),\n",
              " (0, 2),\n",
              " (0, 1),\n",
              " (0, 0),\n",
              " (1, 0),\n",
              " (1, 1),\n",
              " (1, 2),\n",
              " (1, 3),\n",
              " (1, 4),\n",
              " (1, 5)]"
            ]
          },
          "metadata": {},
          "execution_count": 32
        }
      ]
    },
    {
      "cell_type": "code",
      "source": [
        "b.reset_board()"
      ],
      "metadata": {
        "colab": {
          "base_uri": "https://localhost:8080/"
        },
        "id": "L-Y1dihyOEo_",
        "outputId": "1b7c3a9d-af33-467b-a454-0cfd1123bc49"
      },
      "execution_count": 44,
      "outputs": [
        {
          "output_type": "stream",
          "name": "stderr",
          "text": [
            "/usr/local/lib/python3.10/dist-packages/ipykernel/ipkernel.py:283: DeprecationWarning: `should_run_async` will not call `transform_cell` automatically in the future. Please pass the result to `transformed_cell` argument and any exception that happen during thetransform in `preprocessing_exc_tuple` in IPython 7.17 and above.\n",
            "  and should_run_async(code)\n"
          ]
        }
      ]
    },
    {
      "cell_type": "code",
      "source": [
        "b.action2pit(3)"
      ],
      "metadata": {
        "colab": {
          "base_uri": "https://localhost:8080/"
        },
        "id": "-lDPapm0OMUA",
        "outputId": "6863f6b9-0d76-4c00-cfe4-0be5e306e550"
      },
      "execution_count": 70,
      "outputs": [
        {
          "output_type": "execute_result",
          "data": {
            "text/plain": [
              "(0, 2)"
            ]
          },
          "metadata": {},
          "execution_count": 70
        }
      ]
    },
    {
      "cell_type": "code",
      "source": [
        "type(b.board_format)"
      ],
      "metadata": {
        "colab": {
          "base_uri": "https://localhost:8080/"
        },
        "id": "-_W9LIE_Qrcn",
        "outputId": "5836d7f2-ba7d-48f2-dc06-09b74b66d36e"
      },
      "execution_count": 63,
      "outputs": [
        {
          "output_type": "execute_result",
          "data": {
            "text/plain": [
              "numpy.ndarray"
            ]
          },
          "metadata": {},
          "execution_count": 63
        }
      ]
    },
    {
      "cell_type": "code",
      "source": [],
      "metadata": {
        "id": "Ip_59aqOQwJP"
      },
      "execution_count": null,
      "outputs": []
    },
    {
      "cell_type": "code",
      "source": [
        "b.action2pit(pit_index=(1,2))"
      ],
      "metadata": {
        "colab": {
          "base_uri": "https://localhost:8080/"
        },
        "id": "ZYPNJoscOrVZ",
        "outputId": "c93c0c84-c5cd-4ffa-905e-f29ef78b3766"
      },
      "execution_count": 71,
      "outputs": [
        {
          "output_type": "execute_result",
          "data": {
            "text/plain": [
              "8"
            ]
          },
          "metadata": {},
          "execution_count": 71
        }
      ]
    },
    {
      "cell_type": "code",
      "source": [
        "b.action2pit(action=1)"
      ],
      "metadata": {
        "colab": {
          "base_uri": "https://localhost:8080/"
        },
        "id": "vEoASChaP7ZK",
        "outputId": "804f3d31-bdcd-4418-f7fa-dade81e55bc6"
      },
      "execution_count": 51,
      "outputs": [
        {
          "output_type": "stream",
          "name": "stderr",
          "text": [
            "/usr/local/lib/python3.10/dist-packages/ipykernel/ipkernel.py:283: DeprecationWarning: `should_run_async` will not call `transform_cell` automatically in the future. Please pass the result to `transformed_cell` argument and any exception that happen during thetransform in `preprocessing_exc_tuple` in IPython 7.17 and above.\n",
            "  and should_run_async(code)\n"
          ]
        },
        {
          "output_type": "execute_result",
          "data": {
            "text/plain": [
              "(0, 4)"
            ]
          },
          "metadata": {},
          "execution_count": 51
        }
      ]
    },
    {
      "cell_type": "code",
      "source": [],
      "metadata": {
        "id": "snYGZdXQQNUS"
      },
      "execution_count": null,
      "outputs": []
    }
  ]
}