{
  "nbformat": 4,
  "nbformat_minor": 0,
  "metadata": {
    "colab": {
      "provenance": [],
      "authorship_tag": "ABX9TyMrdbR6ArU15ehJymPq5uUQ",
      "include_colab_link": true
    },
    "kernelspec": {
      "name": "python3",
      "display_name": "Python 3"
    },
    "language_info": {
      "name": "python"
    }
  },
  "cells": [
    {
      "cell_type": "markdown",
      "metadata": {
        "id": "view-in-github",
        "colab_type": "text"
      },
      "source": [
        "<a href=\"https://colab.research.google.com/github/ChantelleAA/Reinforcement_Learning_Oware/blob/main/classes.ipynb\" target=\"_parent\"><img src=\"https://colab.research.google.com/assets/colab-badge.svg\" alt=\"Open In Colab\"/></a>"
      ]
    },
    {
      "cell_type": "markdown",
      "source": [
        "Classes being considered are Board, Player, Rules and Game State"
      ],
      "metadata": {
        "id": "Ojumlm2-Ekgz"
      }
    },
    {
      "cell_type": "markdown",
      "source": [
        "### **Board**"
      ],
      "metadata": {
        "id": "91bUC2T3Eoxa"
      }
    },
    {
      "cell_type": "code",
      "source": [
        "import numpy as np\n",
        "import gym\n",
        "import random"
      ],
      "metadata": {
        "id": "DRddAlTcFGv8",
        "colab": {
          "base_uri": "https://localhost:8080/"
        },
        "outputId": "a83f5526-0452-4817-bd27-18786cefc10a"
      },
      "execution_count": null,
      "outputs": [
        {
          "output_type": "stream",
          "name": "stderr",
          "text": [
            "/usr/local/lib/python3.10/dist-packages/ipykernel/ipkernel.py:283: DeprecationWarning: `should_run_async` will not call `transform_cell` automatically in the future. Please pass the result to `transformed_cell` argument and any exception that happen during thetransform in `preprocessing_exc_tuple` in IPython 7.17 and above.\n",
            "  and should_run_async(code)\n"
          ]
        }
      ]
    },
    {
      "cell_type": "code",
      "source": [
        "class Board():\n",
        "    def __init__(self):\n",
        "        self.nrows = 2\n",
        "        self.ncols = 6\n",
        "        self.total_stores = 2\n",
        "        self.board = 4 * np.ones((self.nrows, self.ncols))\n",
        "\n",
        "        self.total_territories = self.nrows * self.ncols\n",
        "        self.stores = np.zeros((self.total_stores,))\n",
        "        self.territory_count = np.array((self.ncols, self.ncols))\n",
        "        self.board_indices = list(np.ndindex(self.nrows, self.ncols))\n",
        "\n",
        "        self.n_players = 2\n",
        "        self.current_player = 1\n",
        "        self.other_player = 2\n",
        "\n",
        "    @property\n",
        "    def total_seeds(self):\n",
        "        return np.sum(self.board, axis=None)\n",
        "\n",
        "    @property\n",
        "    def board_format(self):\n",
        "        return self.board_indices[5::-1] + self.board_indices[6:]\n",
        "\n",
        "    def zero_rows(self):\n",
        "        rows = np.array([False, False])\n",
        "        for i in range(self.nrows):\n",
        "            if np.sum(self.board[i, :]) == 0:\n",
        "                rows[i] = True\n",
        "        return rows\n",
        "\n",
        "    def reset_board(self):\n",
        "        self.board = 4 * np.ones((self.nrows, self.ncols))\n",
        "\n",
        "    def action2pit(self, action):\n",
        "        return self.board_format[action]\n",
        "\n",
        "    def get_seeds(self, action):\n",
        "        pit_index = self.action2pit(action=action)\n",
        "        return self.board[pit_index]\n",
        "\n",
        "    def set_seeds(self, action, new_value):\n",
        "        pit_index = self.action2pit(action=action)\n",
        "        self.board[pit_index] = new_value\n",
        "\n",
        "    def update_seeds(self, action, new_value):\n",
        "        pit_index = self.action2pit(action=action)\n",
        "        self.board[pit_index] += new_value\n",
        "\n",
        "    def distribute_seeds(self, action):\n",
        "        # should just change the state of the game but not return anything except maybe some print statements about the change of states, final_index\n",
        "        # get pit index corresponding to action taken\n",
        "        pit_index = self.action2pit(action=action)\n",
        "\n",
        "        # pick seeds from current pit\n",
        "        seeds = self.board[pit_index]\n",
        "\n",
        "        # set seeds from current pit to zero\n",
        "        self.board[pit_index] = 0\n",
        "\n",
        "        # iterate over number of seeds picked\n",
        "        while seeds > 0 :\n",
        "            global next_index\n",
        "            print(type(action))\n",
        "            action += 1\n",
        "            next_index = self.board_format[action]\n",
        "\n",
        "            # drop seed at the point found\n",
        "            self.board[next_index] += 1\n",
        "\n",
        "            # update number of seeds in hand\n",
        "            seeds -= 1\n",
        "\n",
        "            # update current index\n",
        "            pit_index = next_index\n",
        "\n",
        "        return next_index\n",
        "\n",
        "    def capture_seeds(self, action, during_game = True):\n",
        "        pit_index = self.action2pit(action)\n",
        "        player_idx = self.current_player - 1\n",
        "        if self.get_seeds(action) == 4 and np.sum(self.board, axis=None) > 8:\n",
        "            if during_game:\n",
        "                if pit_index in self.board_format[player_idx]:\n",
        "                    self.stores[player_idx] += 4\n",
        "                    self.set_seeds(action, 0)\n",
        "                else:\n",
        "                    self.stores[1 - player_idx] += 4\n",
        "                    self.board[pit_index] = 0\n",
        "            else:\n",
        "                if self.board[pit_index] == 4:\n",
        "                    self.stores[pit_index] += 4\n",
        "                    self.set_seeds(action, 0)\n",
        "        elif self.get_seeds(action) == 4 and np.sum(self.board, axis=None) == 8:\n",
        "            self.stores[player_idx] += 8\n",
        "            self.board[self.board > 0] = 0\n"
      ],
      "metadata": {
        "colab": {
          "base_uri": "https://localhost:8080/"
        },
        "id": "qUN9gC-8Emzi",
        "outputId": "2fd7e67a-cf19-46a3-b622-ac4fadfeef7d"
      },
      "execution_count": null,
      "outputs": [
        {
          "output_type": "stream",
          "name": "stderr",
          "text": [
            "/usr/local/lib/python3.10/dist-packages/ipykernel/ipkernel.py:283: DeprecationWarning: `should_run_async` will not call `transform_cell` automatically in the future. Please pass the result to `transformed_cell` argument and any exception that happen during thetransform in `preprocessing_exc_tuple` in IPython 7.17 and above.\n",
            "  and should_run_async(code)\n"
          ]
        }
      ]
    },
    {
      "cell_type": "code",
      "source": [
        "b= Board()\n",
        "b.territory_count\n",
        "b.capture_seeds(2)\n",
        "b.board"
      ],
      "metadata": {
        "colab": {
          "base_uri": "https://localhost:8080/"
        },
        "id": "Oc_DwthJSfXL",
        "outputId": "e7a4c498-48ef-43aa-9d47-1c6967611d3a"
      },
      "execution_count": null,
      "outputs": [
        {
          "output_type": "execute_result",
          "data": {
            "text/plain": [
              "array([[4., 4., 4., 0., 4., 4.],\n",
              "       [4., 4., 4., 4., 4., 4.]])"
            ]
          },
          "metadata": {},
          "execution_count": 23
        }
      ]
    },
    {
      "cell_type": "markdown",
      "source": [
        "### **Player**"
      ],
      "metadata": {
        "id": "5sMzMHlipcV4"
      }
    },
    {
      "cell_type": "code",
      "source": [
        "class Player:\n",
        "    def __init__(self):\n",
        "        B = Board()\n",
        "        self.player1 = 1\n",
        "        self.player2 = 2\n",
        "        self.stores = B.stores\n",
        "        self.territories = B.board_indices\n",
        "        self.env = GameState()\n",
        "\n",
        "    def territory_count(self):\n",
        "        return Board().territory_count\n",
        "\n",
        "    def territory_indices(self, player):\n",
        "        player_id = player - 1\n",
        "        if player == 1:\n",
        "            return self.territories[:6]\n",
        "        elif player == 2:\n",
        "            return self.territories[6:]\n",
        "\n",
        "    def is_round_winner(self, player):\n",
        "        player_id = player - 1\n",
        "        opponent_id = 1 - player_id\n",
        "        if self.stores[player_id] > self.stores[opponent_id]:\n",
        "            return True\n",
        "        return False\n",
        "\n",
        "    def Player1_step(self):\n",
        "        action = random.choice(self.env.actions)"
      ],
      "metadata": {
        "id": "lQVfMzVOpe2e"
      },
      "execution_count": null,
      "outputs": []
    },
    {
      "cell_type": "markdown",
      "source": [
        "### **Game state**"
      ],
      "metadata": {
        "id": "RP2AbKIqWe1o"
      }
    },
    {
      "cell_type": "code",
      "source": [
        "class GameState:\n",
        "    def __init__(self):\n",
        "        self.num_of_rounds = 6\n",
        "        self.total_games_played = 0\n",
        "        self.games_won = np.array([0, 0])\n",
        "        self.current_board_state = Board().board\n",
        "        self.current_store_state = Board().stores\n",
        "        self.current_territory_count = Board().territory_count\n",
        "        self.rounds_completed = 0\n",
        "        self.turns_completed = 0\n",
        "        self.win_list = []\n",
        "        self.round_winner = 0\n",
        "        self.current_player = 0\n",
        "        self.other_player = 0\n",
        "\n",
        "    def update_win_list(self, player):\n",
        "        if player == self.round_winner:\n",
        "            self.win_list += [player]\n",
        "\n",
        "        # evironment_state = np.array()"
      ],
      "metadata": {
        "id": "n1JRusW1WvXw"
      },
      "execution_count": null,
      "outputs": []
    },
    {
      "cell_type": "markdown",
      "source": [
        "### **RuleEngine**"
      ],
      "metadata": {
        "id": "KYq5XQijWx2A"
      }
    },
    {
      "cell_type": "code",
      "source": [
        "# check for valid actions for players\n",
        "# check for valid movements\n",
        "# check for empty pits\n",
        "# check if is in      players territory\n",
        "\n",
        "class RuleEngine:\n",
        "    def __init__(self):\n",
        "        self.round = 1\n",
        "        self.turn = 1\n",
        "        self.actions = np.arange(12)\n",
        "\n",
        "    def is_valid_action(self, action):\n",
        "        # check if the action is valid for a player\n",
        "        if action in self.actions:\n",
        "            return True\n",
        "        return False\n",
        "\n",
        "\n",
        "\n"
      ],
      "metadata": {
        "id": "vfSD4RGTWxec"
      },
      "execution_count": null,
      "outputs": []
    },
    {
      "cell_type": "code",
      "source": [
        "num_of_rounds = 12\n",
        "\n",
        "class GameController:\n",
        "    def __init__(self, num_of_rounds):\n",
        "        self.n_players = 2\n",
        "        self.environment = GameState()\n",
        "        self.board = Board()\n",
        "        self.player = Player()\n",
        "\n",
        "    def starting_player(self, how=\"random\"):\n",
        "        if how == \"random\":\n",
        "            starter = random.sample([1, 2], 1)\n",
        "            return starter[0]\n",
        "        elif how == \"last_winner\":\n",
        "            starter = self.environment.win_list[-1]\n",
        "            return starter\n",
        "\n",
        "\n",
        "    def player\n",
        "\n",
        "    def game(self):\n",
        "        players = [self.player.player1, self.player.player2]\n",
        "        self.environment.current_player = self.starting_player(\"random\")\n",
        "        self.environment.other_player = 1 if self.environment.current_player == 2 else 2\n",
        "\n",
        "\n",
        "\n"
      ],
      "metadata": {
        "id": "oxOJRyoC2PBl"
      },
      "execution_count": null,
      "outputs": []
    },
    {
      "cell_type": "code",
      "source": [],
      "metadata": {
        "id": "kZuCoyQF-xZ_"
      },
      "execution_count": null,
      "outputs": []
    }
  ]
}